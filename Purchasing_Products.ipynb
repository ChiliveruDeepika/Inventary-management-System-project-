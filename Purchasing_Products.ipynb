{
  "nbformat": 4,
  "nbformat_minor": 0,
  "metadata": {
    "colab": {
      "name": "Purchasing Products",
      "provenance": [],
      "collapsed_sections": []
    },
    "kernelspec": {
      "name": "python3",
      "display_name": "Python 3"
    },
    "language_info": {
      "name": "python"
    }
  },
  "cells": [
    {
      "cell_type": "markdown",
      "metadata": {
        "id": "1VGYUwcuql5N"
      },
      "source": [
        "# Read Inventary"
      ]
    },
    {
      "cell_type": "code",
      "metadata": {
        "id": "2hK7Rovtqlf9"
      },
      "source": [
        "import json\n",
        "\n",
        "fd = open('records.json','r')\n",
        "r = fd.read()\n",
        "fd.close()\n",
        "\n",
        "record = json.loads(r)"
      ],
      "execution_count": null,
      "outputs": []
    },
    {
      "cell_type": "code",
      "metadata": {
        "colab": {
          "base_uri": "https://localhost:8080/"
        },
        "id": "DEo2EMr0qd02",
        "outputId": "2354ce7c-3b5f-4b01-c997-3b8c11a4e1c7"
      },
      "source": [
        "for i in record:\n",
        "  print(i,record[i])"
      ],
      "execution_count": null,
      "outputs": [
        {
          "output_type": "stream",
          "name": "stdout",
          "text": [
            "100 {'name': 'Chocolate', 'price': 15, 'expiry_date': 2023, 'quantity': 100}\n",
            "101 {'name': 'Biscuits', 'price': 30, 'expiry_date': 2024, 'quantity': 50}\n",
            "102 {'name': 'Cakes', 'price': 50, 'expiry_date': 2023, 'quantity': 30}\n",
            "103 {'name': 'Pasta', 'price': 100, 'expiry_date': 2025, 'quantity': 20}\n",
            "104 {'name': 'maggie', 'price': 45, 'expiry_date': 2022, 'quantity': 10}\n",
            "105 {'name': 'chilli_sauce', 'price': 70, 'expiry_date': 2021, 'quantity': 30}\n",
            "106 {'name': 'tomato-sauce', 'price': 100, 'expiry_date': 2023, 'quantity': 30}\n",
            "107 {'name': 'oil', 'price': 200, 'expiry_date': 2022, 'quantity': 50}\n",
            "108 {'name': 'Ghee', 'price': 700, 'expiry_date': 2021, 'quantity': 30}\n",
            "109 {'name': 'Butter', 'price': 150, 'expiry_date': 2025, 'quantity': 80}\n",
            "110 {'name': 'Cheese', 'price': 120, 'expiry_date': 2021, 'quantity': 30}\n",
            "111 {'name': 'Mushrooms', 'price': 170, 'expiry_date': 2023, 'quantity': 100}\n",
            "112 {'name': 'Eggs', 'price': 180, 'expiry_date': 2024, 'quantity': 50}\n",
            "113 {'name': 'soaps', 'price': 50, 'expiry_date': 2021, 'quantity': 30}\n",
            "114 {'name': 'sugar', 'price': 40, 'expiry_date': 2022, 'quantity': 40}\n",
            "115 {'name': 'salt', 'price': 20, 'expiry_date': 2021, 'quantity': 30}\n",
            "116 {'name': 'wheat_flour', 'price': 300, 'expiry_date': 2023, 'quantity': 45}\n",
            "117 {'name': 'maida', 'price': 50, 'expiry_date': 2021, 'quantity': 30}\n",
            "118 {'name': 'Rice_flour', 'price': 40, 'expiry_date': 2022, 'quantity': 20}\n",
            "119 {'name': 'Rice', 'price': 2200, 'expiry_date': 2021, 'quantity': 30}\n",
            "120 {'name': 'wheat', 'price': 50, 'expiry_date': 2022, 'quantity': 10}\n",
            "121 {'name': 'Jowar', 'price': 80, 'expiry_date': 2024, 'quantity': 50}\n",
            "122 {'name': 'corn', 'price': 20, 'expiry_date': 2021, 'quantity': 10}\n",
            "123 {'name': 'Bread', 'price': 40, 'expiry_date': 2022, 'quantity': 30}\n",
            "124 {'name': 'Coffe_powder', 'price': 80, 'expiry_date': 2024, 'quantity': 60}\n",
            "125 {'name': 'Turmeric_powder', 'price': 180, 'expiry_date': 2021, 'quantity': 30}\n",
            "126 {'name': 'Vinegar', 'price': 45, 'expiry_date': 2025, 'quantity': 80}\n",
            "127 {'name': 'Yogurt', 'price': 10, 'expiry_date': 2021, 'quantity': 30}\n",
            "128 {'name': 'Honey', 'price': 75, 'expiry_date': 2023, 'quantity': 75}\n",
            "129 {'name': 'pepper', 'price': 60, 'expiry_date': 2021, 'quantity': 30}\n",
            "130 {'name': 'pluses', 'price': 400, 'expiry_date': 2021, 'quantity': 67}\n"
          ]
        }
      ]
    },
    {
      "cell_type": "markdown",
      "metadata": {
        "id": "C68Z2xMRrSxI"
      },
      "source": [
        "# Purchase"
      ]
    },
    {
      "cell_type": "code",
      "metadata": {
        "colab": {
          "base_uri": "https://localhost:8080/"
        },
        "id": "knI2q9-OU2ju",
        "outputId": "57250205-320f-417a-b38b-e76db45a7c13"
      },
      "source": [
        "from datetime import date\n",
        "  \n",
        "todays_date = date.today()\n",
        "\n",
        "amount = []\n",
        "sales={}\n",
        "def purchase():\n",
        "  ui_prod= str(input(\"Enter the Product Id:\"))\n",
        "  ui_quant= int(input(\"Enter the quantity:\"))\n",
        "\n",
        "  # checking expiry date And quantity in stock\n",
        "\n",
        "  if record[ui_prod]['expiry_date'] > todays_date.year:\n",
        "    if  record[ui_prod]['quantity'] > ui_quant:\n",
        "      print(\"*************************************\")\n",
        "      print('Product : ',record[ui_prod]['name'])\n",
        "      print(\"Price:\",record[ui_prod]['price'])\n",
        "     \n",
        "      # Adding price of each grocery to amount list  \n",
        "      amount.append(record[ui_prod]['price']*ui_quant)\n",
        "\n",
        "      # making a record of each sales in the form of dictionary\n",
        "      sales[(len(sales)+1)]={'product':ui_prod,'quantity':ui_quant,'Amount':record[ui_prod]['price']*ui_quant}\n",
        "  \n",
        "      # decreasing the quantity of specified user product from stock\n",
        "      record[ui_prod]['quantity'] =record[ui_prod]['quantity'] - ui_quant\n",
        "    else:\n",
        "      print(\"***********************************\")\n",
        "      # if the required quantity is not available in stock\n",
        "      print(\"we have only \",record[ui_prod]['quantity'],\"products.\") \n",
        "  else:\n",
        "    print(\"*************************************\")\n",
        "    print(\"product is Expired. Kindly choose  another product\") \n",
        "\n",
        "    # Adding more items\n",
        "  print(\"***************************************\")   \n",
        "  print(\"if you want to purchase more press Yes otherwise No\")\n",
        "  pur=str(input())\n",
        "  print(\"***************************************\")\n",
        "  if pur == 'Y':\n",
        "    purchase()\n",
        "  elif pur == 'N':\n",
        "    total = 0\n",
        "    # print(amount)\n",
        "    for i in range(0,len(amount)):\n",
        "      total = total + amount[i]\n",
        "    print(\"----------------------------------\")\n",
        "    print(\"Billing  Amount: \",total)\n",
        "    print(\"----------------------------------\") \n",
        "\n",
        "purchase()      "
      ],
      "execution_count": 32,
      "outputs": [
        {
          "output_type": "stream",
          "name": "stdout",
          "text": [
            "Enter the Product Id:100\n",
            "Enter the quantity:2\n",
            "*************************************\n",
            "Product :  Chocolate\n",
            "Price: 15\n",
            "***************************************\n",
            "if you want to purchase more press Yes otherwise No\n",
            "Y\n",
            "***************************************\n",
            "Enter the Product Id:101\n",
            "Enter the quantity:2\n",
            "*************************************\n",
            "Product :  Biscuits\n",
            "Price: 30\n",
            "***************************************\n",
            "if you want to purchase more press Yes otherwise No\n",
            "N\n",
            "***************************************\n",
            "[30, 60]\n",
            "----------------------------------\n",
            "Billing  Amount:  90\n",
            "----------------------------------\n"
          ]
        }
      ]
    },
    {
      "cell_type": "code",
      "metadata": {
        "colab": {
          "base_uri": "https://localhost:8080/"
        },
        "id": "D2dInEpxas3U",
        "outputId": "5de01713-306c-422e-9406-9d7975f57803"
      },
      "source": [
        "print(sales)"
      ],
      "execution_count": null,
      "outputs": [
        {
          "output_type": "stream",
          "name": "stdout",
          "text": [
            "{1: {'product': '100', 'quantity': 2, 'Amount': 30}, 2: {'product': '102', 'quantity': 2, 'Amount': 100}}\n"
          ]
        }
      ]
    },
    {
      "cell_type": "markdown",
      "metadata": {
        "id": "i-EC_Ll1xZLS"
      },
      "source": [
        "# Update Inventary after Purchase"
      ]
    },
    {
      "cell_type": "code",
      "metadata": {
        "id": "h1SPyhEGeTwq"
      },
      "source": [
        "js = json.dumps(record)\n",
        "fd = open('records.json','w')\n",
        "fd.write(js)\n",
        "fd.close()"
      ],
      "execution_count": null,
      "outputs": []
    },
    {
      "cell_type": "markdown",
      "metadata": {
        "id": "8IfZRXAokkoy"
      },
      "source": [
        "# Open Json File"
      ]
    },
    {
      "cell_type": "code",
      "metadata": {
        "id": "B9oNSeOCe1Y0"
      },
      "source": [
        "fd = open('records.json','r')\n",
        "r = fd.read()\n",
        "fd.close()"
      ],
      "execution_count": null,
      "outputs": []
    },
    {
      "cell_type": "code",
      "metadata": {
        "colab": {
          "base_uri": "https://localhost:8080/"
        },
        "id": "_VGFFXCWfJvf",
        "outputId": "76a4aa4f-fdfc-44d7-99e8-cd36bdabfa3f"
      },
      "source": [
        "print(sales)"
      ],
      "execution_count": null,
      "outputs": [
        {
          "output_type": "stream",
          "name": "stdout",
          "text": [
            "{1: {'product': '100', 'quantity': 2, 'Amount': 30}, 2: {'product': '102', 'quantity': 2, 'Amount': 100}}\n"
          ]
        }
      ]
    },
    {
      "cell_type": "markdown",
      "metadata": {
        "id": "RCRyk0Z3jPnM"
      },
      "source": [
        "# Saving data in Json Format"
      ]
    },
    {
      "cell_type": "code",
      "metadata": {
        "colab": {
          "base_uri": "https://localhost:8080/"
        },
        "id": "o6yPWqhbfNCD",
        "outputId": "d2a8647e-4fe7-4ff4-bec0-7fdece77f4e7"
      },
      "source": [
        "import json\n",
        "sl = json.dumps(sales)\n",
        "print(sl)\n",
        "print(type(sl))"
      ],
      "execution_count": null,
      "outputs": [
        {
          "output_type": "stream",
          "name": "stdout",
          "text": [
            "{\"1\": {\"product\": \"100\", \"quantity\": 2, \"Amount\": 30}, \"2\": {\"product\": \"102\", \"quantity\": 2, \"Amount\": 100}}\n",
            "<class 'str'>\n"
          ]
        }
      ]
    },
    {
      "cell_type": "code",
      "metadata": {
        "id": "8D3Syr1BfrQo"
      },
      "source": [
        "fs = open('sales.json','w')\n",
        "fs.write(sl)\n",
        "fs.close()"
      ],
      "execution_count": null,
      "outputs": []
    },
    {
      "cell_type": "markdown",
      "metadata": {
        "id": "fethlG7MjbWT"
      },
      "source": [
        "# Reading sales data in Json Format"
      ]
    },
    {
      "cell_type": "code",
      "metadata": {
        "id": "nDhiSJLAgL7k"
      },
      "source": [
        "fp = open('sales.json','r')\n",
        "data=json.load(fp)\n",
        "fp.close()"
      ],
      "execution_count": null,
      "outputs": []
    },
    {
      "cell_type": "markdown",
      "metadata": {
        "id": "PjMmibc1jnnJ"
      },
      "source": [
        "# Printing Sales data"
      ]
    },
    {
      "cell_type": "code",
      "metadata": {
        "id": "_Zha-k5vgqis",
        "colab": {
          "base_uri": "https://localhost:8080/"
        },
        "outputId": "0c477a9b-b6d2-4ee7-b5f6-433687440e88"
      },
      "source": [
        "for i in data:\n",
        "  print(i,'=>',data[i])"
      ],
      "execution_count": null,
      "outputs": [
        {
          "output_type": "stream",
          "name": "stdout",
          "text": [
            "1 => {'product': '100', 'quantity': 2, 'Amount': 30}\n",
            "2 => {'product': '102', 'quantity': 2, 'Amount': 100}\n"
          ]
        }
      ]
    }
  ]
}