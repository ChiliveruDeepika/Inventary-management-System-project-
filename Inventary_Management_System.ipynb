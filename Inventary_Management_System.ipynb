{
  "nbformat": 4,
  "nbformat_minor": 0,
  "metadata": {
    "colab": {
      "name": "Inventary_Management System.ipynb",
      "provenance": [],
      "collapsed_sections": []
    },
    "kernelspec": {
      "name": "python3",
      "display_name": "Python 3"
    },
    "language_info": {
      "name": "python"
    }
  },
  "cells": [
    {
      "cell_type": "markdown",
      "metadata": {
        "id": "Dm6TmtyeHShQ"
      },
      "source": [
        "# Creating Records"
      ]
    },
    {
      "cell_type": "code",
      "metadata": {
        "colab": {
          "base_uri": "https://localhost:8080/"
        },
        "id": "d4gAsO-pm5UR",
        "outputId": "6c526b0e-4128-4100-86cf-6050332dbf8c"
      },
      "source": [
        "records={100 :{'name':'Chocolate','price':15,'expiry_date':2023,'quantity':100},\n",
        "        101 : {'name':'Biscuits','price':30,'expiry_date':2024,'quantity':50},\n",
        "        102 : {'name':'Cakes','price':50,'expiry_date':2023,'quantity':30},\n",
        "        103 : {'name':'Pasta','price':100,'expiry_date':2025,'quantity':20},\n",
        "        104 : {'name':'maggie','price':45,'expiry_date':2022,'quantity':10}, \n",
        "  105 : {'name':'chilli_sauce','price':70,'expiry_date':2021,'quantity':30},\n",
        "  106 : {'name':'tomato-sauce','price':100,'expiry_date':2023,'quantity':30},\n",
        "        107 : {'name':'oil','price':200,'expiry_date':2022,'quantity':50},\n",
        "        108 : {'name':'Ghee','price':700,'expiry_date':2021,'quantity':30},\n",
        "       109 : {'name':'Butter','price':150,'expiry_date':2025,'quantity':80},\n",
        "          110 : {'name':'Cheese','price':120,'expiry_date':2021,'quantity':30},\n",
        "       111 : {'name':'Mushrooms','price':170,'expiry_date':2023,'quantity':100},\n",
        "            112 : {'name':'Eggs','price':180,'expiry_date':2024,'quantity':50},\n",
        "            113 : {'name':'soaps','price':50,'expiry_date':2021,'quantity':30},\n",
        "            114 : {'name':'sugar','price':40,'expiry_date':2022,'quantity':40},\n",
        "            115 : {'name':'salt','price':20,'expiry_date':2021,'quantity':30},\n",
        "     116 : {'name':'wheat_flour','price':300,'expiry_date':2023,'quantity':45},\n",
        "            117 : {'name':'maida','price':50,'expiry_date':2021,'quantity':30},\n",
        "       118 : {'name':'Rice_flour','price':40,'expiry_date':2022,'quantity':20},\n",
        "            119 : {'name':'Rice','price':2200,'expiry_date':2021,'quantity':30},\n",
        "            120 : {'name':'wheat','price':50,'expiry_date':2022,'quantity':10},\n",
        "            121 : {'name':'Jowar','price':80,'expiry_date':2024,'quantity':50},\n",
        "            122 : {'name':'corn','price':20,'expiry_date':2021,'quantity':10},\n",
        "            123 : {'name':'Bread','price':40,'expiry_date':2022,'quantity':30},\n",
        "     124 : {'name':'Coffe_powder','price':80,'expiry_date':2024,'quantity':60}, \n",
        " 125 : {'name':'Turmeric_powder','price':180,'expiry_date':2021,'quantity':30},\n",
        "          126 : {'name':'Vinegar','price':45,'expiry_date':2025,'quantity':80},\n",
        "            127 : {'name':'Yogurt','price':10,'expiry_date':2021,'quantity':30},\n",
        "            128 :{'name':'Honey','price':75,'expiry_date':2023,'quantity':75},\n",
        "            129 :{'name':'pepper','price':60,'expiry_date':2021,'quantity':30},\n",
        "            130 :{'name':'pluses','price':400,'expiry_date':2021,'quantity':67}\n",
        "  }\n",
        "print(records)"
      ],
      "execution_count": null,
      "outputs": [
        {
          "output_type": "stream",
          "name": "stdout",
          "text": [
            "{100: {'name': 'Chocolate', 'price': 15, 'expiry_date': 2023, 'quantity': 100}, 101: {'name': 'Biscuits', 'price': 30, 'expiry_date': 2024, 'quantity': 50}, 102: {'name': 'Cakes', 'price': 50, 'expiry_date': 2023, 'quantity': 30}, 103: {'name': 'Pasta', 'price': 100, 'expiry_date': 2025, 'quantity': 20}, 104: {'name': 'maggie', 'price': 45, 'expiry_date': 2022, 'quantity': 10}, 105: {'name': 'chilli_sauce', 'price': 70, 'expiry_date': 2021, 'quantity': 30}, 106: {'name': 'tomato-sauce', 'price': 100, 'expiry_date': 2023, 'quantity': 30}, 107: {'name': 'oil', 'price': 200, 'expiry_date': 2022, 'quantity': 50}, 108: {'name': 'Ghee', 'price': 700, 'expiry_date': 2021, 'quantity': 30}, 109: {'name': 'Butter', 'price': 150, 'expiry_date': 2025, 'quantity': 80}, 110: {'name': 'Cheese', 'price': 120, 'expiry_date': 2021, 'quantity': 30}, 111: {'name': 'Mushrooms', 'price': 170, 'expiry_date': 2023, 'quantity': 100}, 112: {'name': 'Eggs', 'price': 180, 'expiry_date': 2024, 'quantity': 50}, 113: {'name': 'soaps', 'price': 50, 'expiry_date': 2021, 'quantity': 30}, 114: {'name': 'sugar', 'price': 40, 'expiry_date': 2022, 'quantity': 40}, 115: {'name': 'salt', 'price': 20, 'expiry_date': 2021, 'quantity': 30}, 116: {'name': 'wheat_flour', 'price': 300, 'expiry_date': 2023, 'quantity': 45}, 117: {'name': 'maida', 'price': 50, 'expiry_date': 2021, 'quantity': 30}, 118: {'name': 'Rice_flour', 'price': 40, 'expiry_date': 2022, 'quantity': 20}, 119: {'name': 'Rice', 'price': 2200, 'expiry_date': 2021, 'quantity': 30}, 120: {'name': 'wheat', 'price': 50, 'expiry_date': 2022, 'quantity': 10}, 121: {'name': 'Jowar', 'price': 80, 'expiry_date': 2024, 'quantity': 50}, 122: {'name': 'corn', 'price': 20, 'expiry_date': 2021, 'quantity': 10}, 123: {'name': 'Bread', 'price': 40, 'expiry_date': 2022, 'quantity': 30}, 124: {'name': 'Coffe_powder', 'price': 80, 'expiry_date': 2024, 'quantity': 60}, 125: {'name': 'Turmeric_powder', 'price': 180, 'expiry_date': 2021, 'quantity': 30}, 126: {'name': 'Vinegar', 'price': 45, 'expiry_date': 2025, 'quantity': 80}, 127: {'name': 'Yogurt', 'price': 10, 'expiry_date': 2021, 'quantity': 30}, 128: {'name': 'Honey', 'price': 75, 'expiry_date': 2023, 'quantity': 75}, 129: {'name': 'pepper', 'price': 60, 'expiry_date': 2021, 'quantity': 30}, 130: {'name': 'pluses', 'price': 400, 'expiry_date': 2021, 'quantity': 67}}\n"
          ]
        }
      ]
    },
    {
      "cell_type": "code",
      "metadata": {
        "colab": {
          "base_uri": "https://localhost:8080/"
        },
        "id": "RGW5BWz7GC-o",
        "outputId": "748bf106-69b2-4090-d63b-c3e931decb12"
      },
      "source": [
        "print(len(records))\n",
        "print(type(records))"
      ],
      "execution_count": null,
      "outputs": [
        {
          "output_type": "stream",
          "name": "stdout",
          "text": [
            "31\n",
            "<class 'dict'>\n"
          ]
        }
      ]
    },
    {
      "cell_type": "markdown",
      "metadata": {
        "id": "VJ7-KWr1HZWT"
      },
      "source": [
        "# Importing Json Library"
      ]
    },
    {
      "cell_type": "code",
      "metadata": {
        "colab": {
          "base_uri": "https://localhost:8080/",
          "height": 170
        },
        "id": "jxly9jZM4snp",
        "outputId": "ecce159d-a890-4a4d-e644-108fe9244836"
      },
      "source": [
        "import json\n",
        "js = json.dumps(records)\n",
        "js"
      ],
      "execution_count": null,
      "outputs": [
        {
          "output_type": "execute_result",
          "data": {
            "application/vnd.google.colaboratory.intrinsic+json": {
              "type": "string"
            },
            "text/plain": [
              "'{\"100\": {\"name\": \"Chocolate\", \"price\": 15, \"expiry_date\": 2023, \"quantity\": 100}, \"101\": {\"name\": \"Biscuits\", \"price\": 30, \"expiry_date\": 2024, \"quantity\": 50}, \"102\": {\"name\": \"Cakes\", \"price\": 50, \"expiry_date\": 2023, \"quantity\": 30}, \"103\": {\"name\": \"Pasta\", \"price\": 100, \"expiry_date\": 2025, \"quantity\": 20}, \"104\": {\"name\": \"maggie\", \"price\": 45, \"expiry_date\": 2022, \"quantity\": 10}, \"105\": {\"name\": \"chilli_sauce\", \"price\": 70, \"expiry_date\": 2021, \"quantity\": 30}, \"106\": {\"name\": \"tomato-sauce\", \"price\": 100, \"expiry_date\": 2023, \"quantity\": 30}, \"107\": {\"name\": \"oil\", \"price\": 200, \"expiry_date\": 2022, \"quantity\": 50}, \"108\": {\"name\": \"Ghee\", \"price\": 700, \"expiry_date\": 2021, \"quantity\": 30}, \"109\": {\"name\": \"Butter\", \"price\": 150, \"expiry_date\": 2025, \"quantity\": 80}, \"110\": {\"name\": \"Cheese\", \"price\": 120, \"expiry_date\": 2021, \"quantity\": 30}, \"111\": {\"name\": \"Mushrooms\", \"price\": 170, \"expiry_date\": 2023, \"quantity\": 100}, \"112\": {\"name\": \"Eggs\", \"price\": 180, \"expiry_date\": 2024, \"quantity\": 50}, \"113\": {\"name\": \"soaps\", \"price\": 50, \"expiry_date\": 2021, \"quantity\": 30}, \"114\": {\"name\": \"sugar\", \"price\": 40, \"expiry_date\": 2022, \"quantity\": 40}, \"115\": {\"name\": \"salt\", \"price\": 20, \"expiry_date\": 2021, \"quantity\": 30}, \"116\": {\"name\": \"wheat_flour\", \"price\": 300, \"expiry_date\": 2023, \"quantity\": 45}, \"117\": {\"name\": \"maida\", \"price\": 50, \"expiry_date\": 2021, \"quantity\": 30}, \"118\": {\"name\": \"Rice_flour\", \"price\": 40, \"expiry_date\": 2022, \"quantity\": 20}, \"119\": {\"name\": \"Rice\", \"price\": 2200, \"expiry_date\": 2021, \"quantity\": 30}, \"120\": {\"name\": \"wheat\", \"price\": 50, \"expiry_date\": 2022, \"quantity\": 10}, \"121\": {\"name\": \"Jowar\", \"price\": 80, \"expiry_date\": 2024, \"quantity\": 50}, \"122\": {\"name\": \"corn\", \"price\": 20, \"expiry_date\": 2021, \"quantity\": 10}, \"123\": {\"name\": \"Bread\", \"price\": 40, \"expiry_date\": 2022, \"quantity\": 30}, \"124\": {\"name\": \"Coffe_powder\", \"price\": 80, \"expiry_date\": 2024, \"quantity\": 60}, \"125\": {\"name\": \"Turmeric_powder\", \"price\": 180, \"expiry_date\": 2021, \"quantity\": 30}, \"126\": {\"name\": \"Vinegar\", \"price\": 45, \"expiry_date\": 2025, \"quantity\": 80}, \"127\": {\"name\": \"Yogurt\", \"price\": 10, \"expiry_date\": 2021, \"quantity\": 30}, \"128\": {\"name\": \"Honey\", \"price\": 75, \"expiry_date\": 2023, \"quantity\": 75}, \"129\": {\"name\": \"pepper\", \"price\": 60, \"expiry_date\": 2021, \"quantity\": 30}, \"130\": {\"name\": \"pluses\", \"price\": 400, \"expiry_date\": 2021, \"quantity\": 67}}'"
            ]
          },
          "metadata": {},
          "execution_count": 3
        }
      ]
    },
    {
      "cell_type": "code",
      "metadata": {
        "colab": {
          "base_uri": "https://localhost:8080/"
        },
        "id": "4eD7EA2WHf5z",
        "outputId": "9e71e037-b3e2-4006-c808-019a9bbf59b9"
      },
      "source": [
        "print(type(js))"
      ],
      "execution_count": null,
      "outputs": [
        {
          "output_type": "stream",
          "name": "stdout",
          "text": [
            "<class 'str'>\n"
          ]
        }
      ]
    },
    {
      "cell_type": "markdown",
      "metadata": {
        "id": "UEdHxIjJB6KK"
      },
      "source": [
        "# Saving file in Json Format"
      ]
    },
    {
      "cell_type": "code",
      "metadata": {
        "id": "mMgVnMJl_yPr"
      },
      "source": [
        "fp = open(\"records.json\",'w')\n",
        "fp.write(js)\n",
        "fp.close()"
      ],
      "execution_count": null,
      "outputs": []
    },
    {
      "cell_type": "markdown",
      "metadata": {
        "id": "gWPqT34nBU7e"
      },
      "source": [
        "# Opening Json File"
      ]
    },
    {
      "cell_type": "code",
      "metadata": {
        "id": "98YjPkaaBd65"
      },
      "source": [
        "fp = open('records.json','r')\n",
        "data=json.load(fp)\n",
        "fp.close()"
      ],
      "execution_count": null,
      "outputs": []
    },
    {
      "cell_type": "code",
      "metadata": {
        "colab": {
          "base_uri": "https://localhost:8080/"
        },
        "id": "nketTfkjn7Y4",
        "outputId": "b18fbb61-db11-4f8e-ff76-31aa5bb09757"
      },
      "source": [
        "type(data)"
      ],
      "execution_count": null,
      "outputs": [
        {
          "output_type": "execute_result",
          "data": {
            "text/plain": [
              "dict"
            ]
          },
          "metadata": {},
          "execution_count": 7
        }
      ]
    },
    {
      "cell_type": "code",
      "metadata": {
        "colab": {
          "base_uri": "https://localhost:8080/"
        },
        "id": "oQ3e51vFCDju",
        "outputId": "0d491f4a-bc92-44f3-f795-d4724addf8cd"
      },
      "source": [
        "for i in data:\n",
        "  print(i,'=>',data[i])"
      ],
      "execution_count": null,
      "outputs": [
        {
          "output_type": "stream",
          "name": "stdout",
          "text": [
            "100 => {'name': 'Chocolate', 'price': 15, 'expiry_date': 2023, 'quantity': 100}\n",
            "101 => {'name': 'Biscuits', 'price': 30, 'expiry_date': 2024, 'quantity': 50}\n",
            "102 => {'name': 'Cakes', 'price': 50, 'expiry_date': 2023, 'quantity': 30}\n",
            "103 => {'name': 'Pasta', 'price': 100, 'expiry_date': 2025, 'quantity': 20}\n",
            "104 => {'name': 'maggie', 'price': 45, 'expiry_date': 2022, 'quantity': 10}\n",
            "105 => {'name': 'chilli_sauce', 'price': 70, 'expiry_date': 2021, 'quantity': 30}\n",
            "106 => {'name': 'tomato-sauce', 'price': 100, 'expiry_date': 2023, 'quantity': 30}\n",
            "107 => {'name': 'oil', 'price': 200, 'expiry_date': 2022, 'quantity': 50}\n",
            "108 => {'name': 'Ghee', 'price': 700, 'expiry_date': 2021, 'quantity': 30}\n",
            "109 => {'name': 'Butter', 'price': 150, 'expiry_date': 2025, 'quantity': 80}\n",
            "110 => {'name': 'Cheese', 'price': 120, 'expiry_date': 2021, 'quantity': 30}\n",
            "111 => {'name': 'Mushrooms', 'price': 170, 'expiry_date': 2023, 'quantity': 100}\n",
            "112 => {'name': 'Eggs', 'price': 180, 'expiry_date': 2024, 'quantity': 50}\n",
            "113 => {'name': 'soaps', 'price': 50, 'expiry_date': 2021, 'quantity': 30}\n",
            "114 => {'name': 'sugar', 'price': 40, 'expiry_date': 2022, 'quantity': 40}\n",
            "115 => {'name': 'salt', 'price': 20, 'expiry_date': 2021, 'quantity': 30}\n",
            "116 => {'name': 'wheat_flour', 'price': 300, 'expiry_date': 2023, 'quantity': 45}\n",
            "117 => {'name': 'maida', 'price': 50, 'expiry_date': 2021, 'quantity': 30}\n",
            "118 => {'name': 'Rice_flour', 'price': 40, 'expiry_date': 2022, 'quantity': 20}\n",
            "119 => {'name': 'Rice', 'price': 2200, 'expiry_date': 2021, 'quantity': 30}\n",
            "120 => {'name': 'wheat', 'price': 50, 'expiry_date': 2022, 'quantity': 10}\n",
            "121 => {'name': 'Jowar', 'price': 80, 'expiry_date': 2024, 'quantity': 50}\n",
            "122 => {'name': 'corn', 'price': 20, 'expiry_date': 2021, 'quantity': 10}\n",
            "123 => {'name': 'Bread', 'price': 40, 'expiry_date': 2022, 'quantity': 30}\n",
            "124 => {'name': 'Coffe_powder', 'price': 80, 'expiry_date': 2024, 'quantity': 60}\n",
            "125 => {'name': 'Turmeric_powder', 'price': 180, 'expiry_date': 2021, 'quantity': 30}\n",
            "126 => {'name': 'Vinegar', 'price': 45, 'expiry_date': 2025, 'quantity': 80}\n",
            "127 => {'name': 'Yogurt', 'price': 10, 'expiry_date': 2021, 'quantity': 30}\n",
            "128 => {'name': 'Honey', 'price': 75, 'expiry_date': 2023, 'quantity': 75}\n",
            "129 => {'name': 'pepper', 'price': 60, 'expiry_date': 2021, 'quantity': 30}\n",
            "130 => {'name': 'pluses', 'price': 400, 'expiry_date': 2021, 'quantity': 67}\n"
          ]
        }
      ]
    },
    {
      "cell_type": "code",
      "metadata": {
        "colab": {
          "base_uri": "https://localhost:8080/"
        },
        "id": "6KsmEkaVGWDc",
        "outputId": "ff752427-3a63-4353-e84f-189b31c37c11"
      },
      "source": [
        "print(type(data))"
      ],
      "execution_count": null,
      "outputs": [
        {
          "output_type": "stream",
          "name": "stdout",
          "text": [
            "<class 'dict'>\n"
          ]
        }
      ]
    }
  ]
}