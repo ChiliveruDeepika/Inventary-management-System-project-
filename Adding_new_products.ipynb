{
  "nbformat": 4,
  "nbformat_minor": 0,
  "metadata": {
    "colab": {
      "name": "Adding new products",
      "provenance": [],
      "collapsed_sections": []
    },
    "kernelspec": {
      "name": "python3",
      "display_name": "Python 3"
    },
    "language_info": {
      "name": "python"
    }
  },
  "cells": [
    {
      "cell_type": "markdown",
      "metadata": {
        "id": "4Mlp2Y2zf7J5"
      },
      "source": [
        "# Read Data from Json"
      ]
    },
    {
      "cell_type": "code",
      "metadata": {
        "id": "WOVVfs_sgsSt"
      },
      "source": [
        "import json"
      ],
      "execution_count": null,
      "outputs": []
    },
    {
      "cell_type": "code",
      "metadata": {
        "id": "bG43h_AJfRDo"
      },
      "source": [
        "fd = open('records.json','r')\n",
        "r = fd.read()\n",
        "fd.close()"
      ],
      "execution_count": null,
      "outputs": []
    },
    {
      "cell_type": "code",
      "metadata": {
        "id": "OX-P3Bq3gfYg"
      },
      "source": [
        "record = json.loads(r)"
      ],
      "execution_count": null,
      "outputs": []
    },
    {
      "cell_type": "code",
      "metadata": {
        "colab": {
          "base_uri": "https://localhost:8080/"
        },
        "id": "lvTc-CNvgv6q",
        "outputId": "a494792f-6ab6-4c80-ff59-7483c81603d3"
      },
      "source": [
        "for i in  record:\n",
        "  print(record[i])"
      ],
      "execution_count": null,
      "outputs": [
        {
          "output_type": "stream",
          "name": "stdout",
          "text": [
            "{'name': 'Chocolate', 'price': 15, 'expiry_date': 2023, 'quantity': 100}\n",
            "{'name': 'Biscuits', 'price': 30, 'expiry_date': 2024, 'quantity': 50}\n",
            "{'name': 'Cakes', 'price': 50, 'expiry_date': 2023, 'quantity': 30}\n",
            "{'name': 'Pasta', 'price': 100, 'expiry_date': 2025, 'quantity': 20}\n",
            "{'name': 'maggie', 'price': 45, 'expiry_date': 2022, 'quantity': 10}\n",
            "{'name': 'chilli_sauce', 'price': 70, 'expiry_date': 2021, 'quantity': 30}\n",
            "{'name': 'tomato-sauce', 'price': 100, 'expiry_date': 2023, 'quantity': 30}\n",
            "{'name': 'oil', 'price': 200, 'expiry_date': 2022, 'quantity': 50}\n",
            "{'name': 'Ghee', 'price': 700, 'expiry_date': 2021, 'quantity': 30}\n",
            "{'name': 'Butter', 'price': 150, 'expiry_date': 2025, 'quantity': 80}\n",
            "{'name': 'Cheese', 'price': 120, 'expiry_date': 2021, 'quantity': 30}\n",
            "{'name': 'Mushrooms', 'price': 170, 'expiry_date': 2023, 'quantity': 100}\n",
            "{'name': 'Eggs', 'price': 180, 'expiry_date': 2024, 'quantity': 50}\n",
            "{'name': 'soaps', 'price': 50, 'expiry_date': 2021, 'quantity': 30}\n",
            "{'name': 'sugar', 'price': 40, 'expiry_date': 2022, 'quantity': 40}\n",
            "{'name': 'salt', 'price': 20, 'expiry_date': 2021, 'quantity': 30}\n",
            "{'name': 'wheat_flour', 'price': 300, 'expiry_date': 2023, 'quantity': 45}\n",
            "{'name': 'maida', 'price': 50, 'expiry_date': 2021, 'quantity': 30}\n",
            "{'name': 'Rice_flour', 'price': 40, 'expiry_date': 2022, 'quantity': 20}\n",
            "{'name': 'Rice', 'price': 2200, 'expiry_date': 2021, 'quantity': 30}\n",
            "{'name': 'wheat', 'price': 50, 'expiry_date': 2022, 'quantity': 10}\n",
            "{'name': 'Jowar', 'price': 80, 'expiry_date': 2024, 'quantity': 50}\n",
            "{'name': 'corn', 'price': 20, 'expiry_date': 2021, 'quantity': 10}\n",
            "{'name': 'Bread', 'price': 40, 'expiry_date': 2022, 'quantity': 30}\n",
            "{'name': 'Coffe_powder', 'price': 80, 'expiry_date': 2024, 'quantity': 60}\n",
            "{'name': 'Turmeric_powder', 'price': 180, 'expiry_date': 2021, 'quantity': 30}\n",
            "{'name': 'Vinegar', 'price': 45, 'expiry_date': 2025, 'quantity': 80}\n",
            "{'name': 'Yogurt', 'price': 10, 'expiry_date': 2021, 'quantity': 30}\n",
            "{'name': 'Honey', 'price': 75, 'expiry_date': 2023, 'quantity': 75}\n",
            "{'name': 'pepper', 'price': 60, 'expiry_date': 2021, 'quantity': 30}\n",
            "{'name': 'pluses', 'price': 400, 'expiry_date': 2021, 'quantity': 67}\n"
          ]
        }
      ]
    },
    {
      "cell_type": "code",
      "metadata": {
        "colab": {
          "base_uri": "https://localhost:8080/"
        },
        "id": "edDAEyiJkeLp",
        "outputId": "d37f6bec-d5a4-4a0e-94d5-285a16bc6692"
      },
      "source": [
        "type(record)\n",
        "len(record)"
      ],
      "execution_count": null,
      "outputs": [
        {
          "output_type": "execute_result",
          "data": {
            "text/plain": [
              "31"
            ]
          },
          "metadata": {},
          "execution_count": 28
        }
      ]
    },
    {
      "cell_type": "markdown",
      "metadata": {
        "id": "KhJzdgSnj0zL"
      },
      "source": [
        "# Adding a new product"
      ]
    },
    {
      "cell_type": "code",
      "metadata": {
        "colab": {
          "base_uri": "https://localhost:8080/"
        },
        "id": "8C8gAtEyL1aQ",
        "outputId": "617f8a8c-80a7-469e-f9a3-83cf32ef7d62"
      },
      "source": [
        "prod_id = str(input(\"Enter Product Id:\"))\n",
        "quantity = int(input(\"Enter Product quantity:\"))\n",
        "\n",
        "print(\"**************************************\")\n",
        "if prod_id in record.keys():\n",
        "  print(\"your Product ID already exists\")\n",
        "  record[prod_id]={'name':record[prod_id]['name'],'price':record[prod_id]['price'],'quantity':record[prod_id]['quantity']+quantity}\n",
        "else:\n",
        "  name = str(input(\"Enter Product Name:\")) \n",
        "  price = int(input(\"Enter Product price:\"))\n",
        "  expiry_date = int(input(\"Enter Expiry Date:\"))  \n",
        "  record[prod_id] = {'name': name,'price':price,'quantity':quantity,'expiry_date':expiry_date}\n",
        "\n",
        "\n",
        "js = json.dumps(record)\n",
        "\n",
        "fd = open('record.json','w')\n",
        "fd.write(js)\n",
        "fd.close()  \n"
      ],
      "execution_count": null,
      "outputs": [
        {
          "name": "stdout",
          "output_type": "stream",
          "text": [
            "Enter Product Id:131\n",
            "Enter Product quantity:10\n",
            "**************************************\n",
            "Enter Product Name:chips\n",
            "Enter Product price:20\n",
            "Enter Expiry Date:2021\n"
          ]
        }
      ]
    },
    {
      "cell_type": "markdown",
      "metadata": {
        "id": "6jtmXG-7Qchy"
      },
      "source": [
        "# Deleting a product"
      ]
    },
    {
      "cell_type": "code",
      "metadata": {
        "id": "Bmu_Vut_OpgX",
        "colab": {
          "base_uri": "https://localhost:8080/"
        },
        "outputId": "222b5c7d-4b00-4202-f3c4-4ae333d1fa7b"
      },
      "source": [
        "prod_id = str(input(\"Enter the product id that You want to Delete:\"))\n",
        "if prod_id in record:\n",
        "    del record[prod_id]\n",
        "else:\n",
        "  print(\"product Not Available\") \n",
        "\n",
        "js = json.dumps(record)\n",
        "\n",
        "fd = open('record.json','w')\n",
        "fd.write(js)\n",
        "fd.close()  \n",
        "\n",
        "print(record)"
      ],
      "execution_count": null,
      "outputs": [
        {
          "output_type": "stream",
          "name": "stdout",
          "text": [
            "Enter the product id that You want to Delete:131\n",
            "{'100': {'name': 'Chocolate', 'price': 15, 'expiry_date': 2023, 'quantity': 100}, '101': {'name': 'Biscuits', 'price': 30, 'expiry_date': 2024, 'quantity': 50}, '102': {'name': 'Cakes', 'price': 50, 'expiry_date': 2023, 'quantity': 30}, '103': {'name': 'Pasta', 'price': 100, 'expiry_date': 2025, 'quantity': 20}, '104': {'name': 'maggie', 'price': 45, 'expiry_date': 2022, 'quantity': 10}, '105': {'name': 'chilli_sauce', 'price': 70, 'expiry_date': 2021, 'quantity': 30}, '106': {'name': 'tomato-sauce', 'price': 100, 'expiry_date': 2023, 'quantity': 30}, '107': {'name': 'oil', 'price': 200, 'expiry_date': 2022, 'quantity': 50}, '108': {'name': 'Ghee', 'price': 700, 'expiry_date': 2021, 'quantity': 30}, '109': {'name': 'Butter', 'price': 150, 'expiry_date': 2025, 'quantity': 80}, '110': {'name': 'Cheese', 'price': 120, 'expiry_date': 2021, 'quantity': 30}, '111': {'name': 'Mushrooms', 'price': 170, 'expiry_date': 2023, 'quantity': 100}, '112': {'name': 'Eggs', 'price': 180, 'expiry_date': 2024, 'quantity': 50}, '113': {'name': 'soaps', 'price': 50, 'expiry_date': 2021, 'quantity': 30}, '114': {'name': 'sugar', 'price': 40, 'expiry_date': 2022, 'quantity': 40}, '115': {'name': 'salt', 'price': 20, 'expiry_date': 2021, 'quantity': 30}, '116': {'name': 'wheat_flour', 'price': 300, 'expiry_date': 2023, 'quantity': 45}, '117': {'name': 'maida', 'price': 50, 'expiry_date': 2021, 'quantity': 30}, '118': {'name': 'Rice_flour', 'price': 40, 'expiry_date': 2022, 'quantity': 20}, '119': {'name': 'Rice', 'price': 2200, 'expiry_date': 2021, 'quantity': 30}, '120': {'name': 'wheat', 'price': 50, 'expiry_date': 2022, 'quantity': 10}, '121': {'name': 'Jowar', 'price': 80, 'expiry_date': 2024, 'quantity': 50}, '122': {'name': 'corn', 'price': 20, 'expiry_date': 2021, 'quantity': 10}, '123': {'name': 'Bread', 'price': 40, 'expiry_date': 2022, 'quantity': 30}, '124': {'name': 'Coffe_powder', 'price': 80, 'expiry_date': 2024, 'quantity': 60}, '125': {'name': 'Turmeric_powder', 'price': 180, 'expiry_date': 2021, 'quantity': 30}, '126': {'name': 'Vinegar', 'price': 45, 'expiry_date': 2025, 'quantity': 80}, '127': {'name': 'Yogurt', 'price': 10, 'expiry_date': 2021, 'quantity': 30}, '128': {'name': 'Honey', 'price': 75, 'expiry_date': 2023, 'quantity': 75}, '129': {'name': 'pepper', 'price': 60, 'expiry_date': 2021, 'quantity': 30}, '130': {'name': 'pluses', 'price': 400, 'expiry_date': 2021, 'quantity': 67}}\n"
          ]
        }
      ]
    }
  ]
}